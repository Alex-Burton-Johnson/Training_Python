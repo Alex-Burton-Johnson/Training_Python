{
  "nbformat": 4,
  "nbformat_minor": 0,
  "metadata": {
    "colab": {
      "provenance": [],
      "authorship_tag": "ABX9TyODrWJmOufwnd+4KFFC/1Y6",
      "include_colab_link": true
    },
    "kernelspec": {
      "name": "python3",
      "display_name": "Python 3"
    },
    "language_info": {
      "name": "python"
    }
  },
  "cells": [
    {
      "cell_type": "markdown",
      "metadata": {
        "id": "view-in-github",
        "colab_type": "text"
      },
      "source": [
        "<a href=\"https://colab.research.google.com/github/Alex-Burton-Johnson/Training_Python/blob/main/Untitled0.ipynb\" target=\"_parent\"><img src=\"https://colab.research.google.com/assets/colab-badge.svg\" alt=\"Open In Colab\"/></a>"
      ]
    },
    {
      "cell_type": "code",
      "source": [
        "import pandas as pd\n",
        "open(R:\\NTGS-Data\\Projects\\BasementGeoscience\\Projects\\PineCreekOrogen\\2-Data\\Geochemistry\\NTGSGeoChemEleMethUnitAttributedTS.xlsx)"
      ],
      "metadata": {
        "colab": {
          "base_uri": "https://localhost:8080/",
          "height": 106
        },
        "id": "wCZ5ia8ilg88",
        "outputId": "fd6263eb-856e-403d-b6ee-e64b2df312f7"
      },
      "execution_count": null,
      "outputs": [
        {
          "output_type": "error",
          "ename": "SyntaxError",
          "evalue": "invalid syntax (<ipython-input-10-adf7510e1fdb>, line 2)",
          "traceback": [
            "\u001b[0;36m  File \u001b[0;32m\"<ipython-input-10-adf7510e1fdb>\"\u001b[0;36m, line \u001b[0;32m2\u001b[0m\n\u001b[0;31m    open(R:\\NTGS-Data\\Projects\\BasementGeoscience\\Projects\\PineCreekOrogen\\2-Data\\Geochemistry\\NTGSGeoChemEleMethUnitAttributedTS.xlsx)\u001b[0m\n\u001b[0m          ^\u001b[0m\n\u001b[0;31mSyntaxError\u001b[0m\u001b[0;31m:\u001b[0m invalid syntax\n"
          ]
        }
      ]
    }
  ]
}